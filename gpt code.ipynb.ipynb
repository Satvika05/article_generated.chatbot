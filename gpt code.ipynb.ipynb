{
  "nbformat": 4,
  "nbformat_minor": 0,
  "metadata": {
    "colab": {
      "provenance": []
    },
    "kernelspec": {
      "name": "python3",
      "display_name": "Python 3"
    },
    "language_info": {
      "name": "python"
    }
  },
  "cells": [
    {
      "cell_type": "code",
      "execution_count": null,
      "metadata": {
        "id": "UPFj7ASTMmu9"
      },
      "outputs": [],
      "source": [
        "# ✅ Install libraries\n",
        "!pip install transformers accelerate --quiet\n",
        "\n",
        "# ✅ Load GPT-J model\n",
        "from transformers import pipeline\n",
        "\n",
        "generator = pipeline(\"text-generation\", model=\"EleutherAI/gpt-j-6B\", device=0)\n",
        "\n",
        "# ✅ Define prompt for article generation\n",
        "prompt = \"Write a detailed article about the impact of artificial intelligence on education.\"\n",
        "\n",
        "# ✅ Generate article\n",
        "article = generator(prompt, max_length=512, do_sample=True, temperature=0.7)[0]['generated_text']\n",
        "\n",
        "# ✅ Print the result\n",
        "print(\"=== Generated Article ===\")\n",
        "print(article)\n",
        "\n",
        "# ✅ Save article to a file\n",
        "with open(\"gptj_generated_article.txt\", \"w\") as file:\n",
        "    file.write(article)\n"
      ]
    },
    {
      "cell_type": "code",
      "source": [
        "# ✅ Check basic quality - simulate accuracy\n",
        "words = article.split()\n",
        "length_score = min(len(words) / 100, 1)  # Target length >= 100 words\n",
        "keyword_score = int(\"education\" in article.lower() and \"AI\" in article or \"artificial intelligence\" in article)\n",
        "structure_score = int(article.count(\".\") > 3)\n",
        "\n",
        "# Simulated quality-based accuracy score\n",
        "accuracy = (length_score + keyword_score + structure_score) / 3 * 100\n",
        "print(f\"\\nSimulated Accuracy Score: {accuracy:.2f}%\")\n",
        "\n",
        "if accuracy >= 70:\n",
        "    print(\"✅ Passed quality check\")\n",
        "else:\n",
        "    print(\"❌ Needs improvement\")\n"
      ],
      "metadata": {
        "id": "f1k8RkC0Mppr"
      },
      "execution_count": null,
      "outputs": []
    }
  ]
}