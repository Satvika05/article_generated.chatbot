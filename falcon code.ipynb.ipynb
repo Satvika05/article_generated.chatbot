{
  "nbformat": 4,
  "nbformat_minor": 0,
  "metadata": {
    "colab": {
      "provenance": []
    },
    "kernelspec": {
      "name": "python3",
      "display_name": "Python 3"
    },
    "language_info": {
      "name": "python"
    }
  },
  "cells": [
    {
      "cell_type": "code",
      "execution_count": null,
      "metadata": {
        "id": "Z6LHn14qQV-7"
      },
      "outputs": [],
      "source": [
        "# ✅ Install dependencies\n",
        "!pip install transformers accelerate --quiet\n",
        "\n",
        "# ✅ Load Falcon model\n",
        "from transformers import pipeline\n",
        "\n",
        "generator = pipeline(\"text-generation\", model=\"tiiuae/falcon-7b-instruct\", trust_remote_code=True, device=0)\n",
        "\n",
        "# ✅ Define a prompt\n",
        "prompt = \"Write a detailed article about the impact of artificial intelligence on education.\"\n",
        "\n",
        "# ✅ Generate article\n",
        "article = generator(prompt, max_length=512, do_sample=True, temperature=0.7)[0]['generated_text']\n",
        "\n",
        "# ✅ Print output\n",
        "print(\"=== Falcon Article ===\")\n",
        "print(article)\n",
        "\n",
        "# ✅ Save article to file\n",
        "import os\n",
        "os.makedirs(\"outputs\", exist_ok=True)\n",
        "with open(\"outputs/falcon_output.txt\", \"w\") as f:\n",
        "    f.write(article)\n"
      ]
    },
    {
      "cell_type": "code",
      "source": [
        "# ✅ Install dependencies\n",
        "!pip install evaluate transformers --quiet\n",
        "\n",
        "# ✅ Load evaluation metric (ROUGE for text similarity)\n",
        "import evaluate\n",
        "rouge = evaluate.load(\"rouge\")\n",
        "\n",
        "# ✅ Define Falcon article and a reference article\n",
        "falcon_generated = \"\"\"\n",
        "Falcon-7B is transforming education by enabling AI-powered tools for curriculum generation, student support, and personalized feedback.\n",
        "It can assist educators in creating study material, and AI tutors can offer 24x7 learning experiences, bridging the education gap.\n",
        "\"\"\"\n",
        "\n",
        "reference_article = \"\"\"\n",
        "AI is revolutionizing education by offering personalized content, assisting teachers in developing materials, and enabling 24/7 student interaction.\n",
        "Large Language Models like Falcon are crucial in generating human-like educational content with accuracy and fluency.\n",
        "\"\"\"\n",
        "\n",
        "# ✅ Compute ROUGE score\n",
        "results = rouge.compute(predictions=[falcon_generated], references=[reference_article])\n",
        "print(\"=== Falcon Quality Evaluation ===\")\n",
        "print(results)\n",
        "\n",
        "# ✅ Derive a simple quality score (custom heuristic)\n",
        "quality_score = round((results[\"rouge1\"] + results[\"rouge2\"] + results[\"rougeL\"]) / 3 * 100, 2)\n",
        "print(f\"📊 Falcon Quality Score: {quality_score}%\")\n"
      ],
      "metadata": {
        "id": "4hHm5uaWQXzy"
      },
      "execution_count": null,
      "outputs": []
    }
  ]
}